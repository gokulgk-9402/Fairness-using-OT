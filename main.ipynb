{
 "cells": [
  {
   "cell_type": "code",
   "execution_count": 50,
   "metadata": {},
   "outputs": [],
   "source": [
    "import numpy as np\n",
    "import matplotlib.pyplot as plt\n",
    "import pandas as pd\n",
    "import sklearn as sk\n",
    "\n",
    "from statsmodels.graphics.mosaicplot import mosaic\n",
    "\n",
    "from sklearn.model_selection import train_test_split\n",
    "from sklearn.linear_model import LogisticRegression\n",
    "\n",
    "from sklearn.metrics import accuracy_score\n",
    "from sklearn import metrics\n",
    "\n",
    "import ot\n",
    "\n",
    "import time\n",
    "import random"
   ]
  },
  {
   "cell_type": "code",
   "execution_count": 51,
   "metadata": {},
   "outputs": [
    {
     "data": {
      "text/html": [
       "<div>\n",
       "<style scoped>\n",
       "    .dataframe tbody tr th:only-of-type {\n",
       "        vertical-align: middle;\n",
       "    }\n",
       "\n",
       "    .dataframe tbody tr th {\n",
       "        vertical-align: top;\n",
       "    }\n",
       "\n",
       "    .dataframe thead th {\n",
       "        text-align: right;\n",
       "    }\n",
       "</style>\n",
       "<table border=\"1\" class=\"dataframe\">\n",
       "  <thead>\n",
       "    <tr style=\"text-align: right;\">\n",
       "      <th></th>\n",
       "      <th>age</th>\n",
       "      <th>educational-num</th>\n",
       "      <th>capital-gain</th>\n",
       "      <th>capital-loss</th>\n",
       "      <th>hours-per-week</th>\n",
       "      <th>gender</th>\n",
       "      <th>income</th>\n",
       "    </tr>\n",
       "  </thead>\n",
       "  <tbody>\n",
       "    <tr>\n",
       "      <th>0</th>\n",
       "      <td>25</td>\n",
       "      <td>7</td>\n",
       "      <td>0</td>\n",
       "      <td>0</td>\n",
       "      <td>40</td>\n",
       "      <td>Male</td>\n",
       "      <td>&lt;=50K</td>\n",
       "    </tr>\n",
       "    <tr>\n",
       "      <th>1</th>\n",
       "      <td>38</td>\n",
       "      <td>9</td>\n",
       "      <td>0</td>\n",
       "      <td>0</td>\n",
       "      <td>50</td>\n",
       "      <td>Male</td>\n",
       "      <td>&lt;=50K</td>\n",
       "    </tr>\n",
       "    <tr>\n",
       "      <th>2</th>\n",
       "      <td>28</td>\n",
       "      <td>12</td>\n",
       "      <td>0</td>\n",
       "      <td>0</td>\n",
       "      <td>40</td>\n",
       "      <td>Male</td>\n",
       "      <td>&gt;50K</td>\n",
       "    </tr>\n",
       "    <tr>\n",
       "      <th>3</th>\n",
       "      <td>44</td>\n",
       "      <td>10</td>\n",
       "      <td>7688</td>\n",
       "      <td>0</td>\n",
       "      <td>40</td>\n",
       "      <td>Male</td>\n",
       "      <td>&gt;50K</td>\n",
       "    </tr>\n",
       "    <tr>\n",
       "      <th>4</th>\n",
       "      <td>18</td>\n",
       "      <td>10</td>\n",
       "      <td>0</td>\n",
       "      <td>0</td>\n",
       "      <td>30</td>\n",
       "      <td>Female</td>\n",
       "      <td>&lt;=50K</td>\n",
       "    </tr>\n",
       "  </tbody>\n",
       "</table>\n",
       "</div>"
      ],
      "text/plain": [
       "   age  educational-num  capital-gain  capital-loss  hours-per-week  gender  \\\n",
       "0   25                7             0             0              40    Male   \n",
       "1   38                9             0             0              50    Male   \n",
       "2   28               12             0             0              40    Male   \n",
       "3   44               10          7688             0              40    Male   \n",
       "4   18               10             0             0              30  Female   \n",
       "\n",
       "  income  \n",
       "0  <=50K  \n",
       "1  <=50K  \n",
       "2   >50K  \n",
       "3   >50K  \n",
       "4  <=50K  "
      ]
     },
     "execution_count": 51,
     "metadata": {},
     "output_type": "execute_result"
    }
   ],
   "source": [
    "original_data = pd.read_csv(\n",
    "    \"adult.csv\",\n",
    "    usecols=[\n",
    "        \"age\", \"educational-num\", \"gender\", \"capital-gain\", \"capital-loss\", \"hours-per-week\", \"income\"],\n",
    "    sep=r'\\s*,\\s*',\n",
    "    engine='python',\n",
    "    na_values=\"?\",\n",
    "    )\n",
    "\n",
    "original_data = original_data[[\"age\", \"educational-num\", \"capital-gain\", \"capital-loss\", \"hours-per-week\", \"gender\", \"income\"]]\n",
    "\n",
    "original_data.head()"
   ]
  },
  {
   "cell_type": "code",
   "execution_count": 52,
   "metadata": {},
   "outputs": [
    {
     "data": {
      "text/html": [
       "<div>\n",
       "<style scoped>\n",
       "    .dataframe tbody tr th:only-of-type {\n",
       "        vertical-align: middle;\n",
       "    }\n",
       "\n",
       "    .dataframe tbody tr th {\n",
       "        vertical-align: top;\n",
       "    }\n",
       "\n",
       "    .dataframe thead th {\n",
       "        text-align: right;\n",
       "    }\n",
       "</style>\n",
       "<table border=\"1\" class=\"dataframe\">\n",
       "  <thead>\n",
       "    <tr style=\"text-align: right;\">\n",
       "      <th></th>\n",
       "      <th>age</th>\n",
       "      <th>educational-num</th>\n",
       "      <th>capital-gain</th>\n",
       "      <th>capital-loss</th>\n",
       "      <th>hours-per-week</th>\n",
       "      <th>gender</th>\n",
       "      <th>income</th>\n",
       "    </tr>\n",
       "  </thead>\n",
       "  <tbody>\n",
       "    <tr>\n",
       "      <th>48837</th>\n",
       "      <td>27</td>\n",
       "      <td>12</td>\n",
       "      <td>0</td>\n",
       "      <td>0</td>\n",
       "      <td>38</td>\n",
       "      <td>Female</td>\n",
       "      <td>&lt;=50K</td>\n",
       "    </tr>\n",
       "    <tr>\n",
       "      <th>48838</th>\n",
       "      <td>40</td>\n",
       "      <td>9</td>\n",
       "      <td>0</td>\n",
       "      <td>0</td>\n",
       "      <td>40</td>\n",
       "      <td>Male</td>\n",
       "      <td>&gt;50K</td>\n",
       "    </tr>\n",
       "    <tr>\n",
       "      <th>48839</th>\n",
       "      <td>58</td>\n",
       "      <td>9</td>\n",
       "      <td>0</td>\n",
       "      <td>0</td>\n",
       "      <td>40</td>\n",
       "      <td>Female</td>\n",
       "      <td>&lt;=50K</td>\n",
       "    </tr>\n",
       "    <tr>\n",
       "      <th>48840</th>\n",
       "      <td>22</td>\n",
       "      <td>9</td>\n",
       "      <td>0</td>\n",
       "      <td>0</td>\n",
       "      <td>20</td>\n",
       "      <td>Male</td>\n",
       "      <td>&lt;=50K</td>\n",
       "    </tr>\n",
       "    <tr>\n",
       "      <th>48841</th>\n",
       "      <td>52</td>\n",
       "      <td>9</td>\n",
       "      <td>15024</td>\n",
       "      <td>0</td>\n",
       "      <td>40</td>\n",
       "      <td>Female</td>\n",
       "      <td>&gt;50K</td>\n",
       "    </tr>\n",
       "  </tbody>\n",
       "</table>\n",
       "</div>"
      ],
      "text/plain": [
       "       age  educational-num  capital-gain  capital-loss  hours-per-week  \\\n",
       "48837   27               12             0             0              38   \n",
       "48838   40                9             0             0              40   \n",
       "48839   58                9             0             0              40   \n",
       "48840   22                9             0             0              20   \n",
       "48841   52                9         15024             0              40   \n",
       "\n",
       "       gender income  \n",
       "48837  Female  <=50K  \n",
       "48838    Male   >50K  \n",
       "48839  Female  <=50K  \n",
       "48840    Male  <=50K  \n",
       "48841  Female   >50K  "
      ]
     },
     "execution_count": 52,
     "metadata": {},
     "output_type": "execute_result"
    }
   ],
   "source": [
    "original_data.tail()"
   ]
  },
  {
   "cell_type": "code",
   "execution_count": 53,
   "metadata": {},
   "outputs": [
    {
     "data": {
      "image/png": "[encoded data removed]",
      "text/plain": [
       "<Figure size 1440x1080 with 7 Axes>"
      ]
     },
     "metadata": {},
     "output_type": "display_data"
    }
   ],
   "source": [
    "data=original_data.copy()\n",
    "\n",
    "fig = plt.figure(figsize=(20,15))\n",
    "cols = 4\n",
    "rows = int(np.ceil(float(data.shape[1]) / cols))\n",
    "for i, column in enumerate(data.columns):\n",
    "    ax = fig.add_subplot(rows, cols, i + 1)\n",
    "    ax.set_title(column)\n",
    "    if data.dtypes[column] == object:\n",
    "        data[column].value_counts().plot(kind=\"bar\", axes=ax)\n",
    "    else:\n",
    "        data[column].hist(axes=ax)\n",
    "        plt.xticks(rotation=\"vertical\")\n",
    "plt.subplots_adjust(hspace=0.7, wspace=0.2)\n",
    "plt.show()"
   ]
  },
  {
   "cell_type": "code",
   "execution_count": 54,
   "metadata": {},
   "outputs": [
    {
     "name": "stdout",
     "output_type": "stream",
     "text": [
      "Mosaic plot:\n"
     ]
    },
    {
     "data": {
      "image/png": "[encoded data removed]",
      "text/plain": [
       "<Figure size 432x288 with 3 Axes>"
      ]
     },
     "metadata": {},
     "output_type": "display_data"
    }
   ],
   "source": [
    "print('Mosaic plot:')\n",
    "\n",
    "mosaic(data, ['gender','income'],gap=0.02)\n",
    "plt.savefig('figbias1.pdf')\n",
    "plt.show()"
   ]
  },
  {
   "cell_type": "code",
   "execution_count": 55,
   "metadata": {},
   "outputs": [
    {
     "name": "stdout",
     "output_type": "stream",
     "text": [
      "In column Income: >50K gets 1 and <= 50K gets 0\n",
      "In column gender: male gets 1 and female gets 0\n"
     ]
    },
    {
     "data": {
      "text/html": [
       "<div>\n",
       "<style scoped>\n",
       "    .dataframe tbody tr th:only-of-type {\n",
       "        vertical-align: middle;\n",
       "    }\n",
       "\n",
       "    .dataframe tbody tr th {\n",
       "        vertical-align: top;\n",
       "    }\n",
       "\n",
       "    .dataframe thead th {\n",
       "        text-align: right;\n",
       "    }\n",
       "</style>\n",
       "<table border=\"1\" class=\"dataframe\">\n",
       "  <thead>\n",
       "    <tr style=\"text-align: right;\">\n",
       "      <th></th>\n",
       "      <th>age</th>\n",
       "      <th>educational-num</th>\n",
       "      <th>capital-gain</th>\n",
       "      <th>capital-loss</th>\n",
       "      <th>hours-per-week</th>\n",
       "      <th>gender</th>\n",
       "      <th>income</th>\n",
       "    </tr>\n",
       "  </thead>\n",
       "  <tbody>\n",
       "    <tr>\n",
       "      <th>48837</th>\n",
       "      <td>27</td>\n",
       "      <td>12</td>\n",
       "      <td>0</td>\n",
       "      <td>0</td>\n",
       "      <td>38</td>\n",
       "      <td>0.0</td>\n",
       "      <td>0.0</td>\n",
       "    </tr>\n",
       "    <tr>\n",
       "      <th>48838</th>\n",
       "      <td>40</td>\n",
       "      <td>9</td>\n",
       "      <td>0</td>\n",
       "      <td>0</td>\n",
       "      <td>40</td>\n",
       "      <td>1.0</td>\n",
       "      <td>1.0</td>\n",
       "    </tr>\n",
       "    <tr>\n",
       "      <th>48839</th>\n",
       "      <td>58</td>\n",
       "      <td>9</td>\n",
       "      <td>0</td>\n",
       "      <td>0</td>\n",
       "      <td>40</td>\n",
       "      <td>0.0</td>\n",
       "      <td>0.0</td>\n",
       "    </tr>\n",
       "    <tr>\n",
       "      <th>48840</th>\n",
       "      <td>22</td>\n",
       "      <td>9</td>\n",
       "      <td>0</td>\n",
       "      <td>0</td>\n",
       "      <td>20</td>\n",
       "      <td>1.0</td>\n",
       "      <td>0.0</td>\n",
       "    </tr>\n",
       "    <tr>\n",
       "      <th>48841</th>\n",
       "      <td>52</td>\n",
       "      <td>9</td>\n",
       "      <td>15024</td>\n",
       "      <td>0</td>\n",
       "      <td>40</td>\n",
       "      <td>0.0</td>\n",
       "      <td>1.0</td>\n",
       "    </tr>\n",
       "  </tbody>\n",
       "</table>\n",
       "</div>"
      ],
      "text/plain": [
       "       age  educational-num  capital-gain  capital-loss  hours-per-week  \\\n",
       "48837   27               12             0             0              38   \n",
       "48838   40                9             0             0              40   \n",
       "48839   58                9             0             0              40   \n",
       "48840   22                9             0             0              20   \n",
       "48841   52                9         15024             0              40   \n",
       "\n",
       "       gender  income  \n",
       "48837     0.0     0.0  \n",
       "48838     1.0     1.0  \n",
       "48839     0.0     0.0  \n",
       "48840     1.0     0.0  \n",
       "48841     0.0     1.0  "
      ]
     },
     "execution_count": 55,
     "metadata": {},
     "output_type": "execute_result"
    }
   ],
   "source": [
    "data_ohe=data.copy()\n",
    "\n",
    "data_ohe['income'] = np.where(data_ohe['income']=='>50K', 1., 0.)\n",
    "print('In column Income: >50K gets 1 and <= 50K gets 0')\n",
    "\n",
    "\n",
    "data_ohe['gender'] = np.where(data_ohe['gender']=='Male', 1., 0.)\n",
    "print('In column gender: male gets 1 and female gets 0')\n",
    "\n",
    "data_ohe.tail()"
   ]
  },
  {
   "cell_type": "code",
   "execution_count": 62,
   "metadata": {},
   "outputs": [
    {
     "name": "stdout",
     "output_type": "stream",
     "text": [
      "Total number of samples: 5000\n",
      "Number of Male samples: 3343\n",
      "Number of Female samples: 1657\n"
     ]
    }
   ],
   "source": [
    "NUMBER_TOTAL = 5000\n",
    "NUMBER_MALE = 0\n",
    "NUMBER_FEMALE = 0\n",
    "LAMBDA = 0\n",
    "\n",
    "using_data = data_ohe.sample(NUMBER_TOTAL)\n",
    "\n",
    "for index, row in using_data.iterrows():\n",
    "    if row['gender'] == 0:\n",
    "        NUMBER_FEMALE += 1\n",
    "    else:\n",
    "        NUMBER_MALE += 1\n",
    "        \n",
    "print(f\"Total number of samples: {len(using_data)}\")\n",
    "print(f\"Number of Male samples: {NUMBER_MALE}\")\n",
    "print(f\"Number of Female samples: {NUMBER_FEMALE}\")"
   ]
  },
  {
   "cell_type": "code",
   "execution_count": 63,
   "metadata": {},
   "outputs": [
    {
     "name": "stdout",
     "output_type": "stream",
     "text": [
      "Mosaic plot:\n"
     ]
    },
    {
     "data": {
      "image/png": "[encoded data removed]",
      "text/plain": [
       "<Figure size 432x288 with 3 Axes>"
      ]
     },
     "metadata": {},
     "output_type": "display_data"
    }
   ],
   "source": [
    "print('Mosaic plot:')\n",
    "\n",
    "mosaic(using_data, ['gender','income'],gap=0.02)\n",
    "# plt.savefig('mosaic2.pdf')\n",
    "plt.show()"
   ]
  },
  {
   "cell_type": "code",
   "execution_count": 64,
   "metadata": {},
   "outputs": [
    {
     "name": "stdout",
     "output_type": "stream",
     "text": [
      "(5000, 1) (5000, 1) (5000, 5)\n",
      "['age', 'educational-num', 'capital-gain', 'capital-loss', 'hours-per-week']\n"
     ]
    }
   ],
   "source": [
    "y = using_data['income'].values.reshape(-1, 1)\n",
    "protected_x = using_data['gender'].values.reshape(-1, 1)\n",
    "\n",
    "using_data_wo_y_gender = using_data.drop(columns=['gender', 'income'])\n",
    "X_col_names = list(using_data_wo_y_gender.columns)\n",
    "\n",
    "X_wo_gender = using_data_wo_y_gender.values\n",
    "\n",
    "print(y.shape, protected_x.shape, X_wo_gender.shape)\n",
    "print(X_col_names)"
   ]
  },
  {
   "cell_type": "code",
   "execution_count": 65,
   "metadata": {},
   "outputs": [
    {
     "name": "stdout",
     "output_type": "stream",
     "text": [
      "(5000, 6)\n"
     ]
    }
   ],
   "source": [
    "X_scaled = sk.preprocessing.scale(X_wo_gender)\n",
    "\n",
    "X  = np.concatenate((X_scaled, protected_x), axis=1)\n",
    "\n",
    "print(X.shape)"
   ]
  },
  {
   "cell_type": "code",
   "execution_count": 66,
   "metadata": {},
   "outputs": [
    {
     "name": "stdout",
     "output_type": "stream",
     "text": [
      "n_train= 3350\n",
      "n_test= 1650\n",
      "p= 6\n"
     ]
    }
   ],
   "source": [
    "X_train, X_test, y_train, y_test = train_test_split(X, y, test_size=0.33)\n",
    "\n",
    "\n",
    "print('n_train=',X_train.shape[0])\n",
    "print('n_test=',X_test.shape[0])\n",
    "print('p=',X_test.shape[1])\n",
    "\n",
    "NUMBER_TEST = X_test.shape[0]"
   ]
  },
  {
   "cell_type": "code",
   "execution_count": 67,
   "metadata": {},
   "outputs": [
    {
     "name": "stdout",
     "output_type": "stream",
     "text": [
      "Done Training and Predicting\n"
     ]
    }
   ],
   "source": [
    "#instanciate the classifier\n",
    "before = LogisticRegression(solver='lbfgs',max_iter=10000)\n",
    "\n",
    "#train the classifier\n",
    "before.fit(X_train,y_train.ravel())\n",
    "\n",
    "#predict y_test\n",
    "y_test_pred_LR=before.predict(X_test)\n",
    "\n",
    "print('Done Training and Predicting')"
   ]
  },
  {
   "cell_type": "code",
   "execution_count": 68,
   "metadata": {},
   "outputs": [
    {
     "name": "stdout",
     "output_type": "stream",
     "text": [
      "\n",
      "Accuracy = 0.82\n"
     ]
    }
   ],
   "source": [
    "acc=accuracy_score(y_test.ravel(),y_test_pred_LR.ravel())\n",
    "tpr=np.sum((y_test_pred_LR.ravel()==1)*(y_test.ravel()==1)) / np.sum(y_test_pred_LR.ravel()==1)\n",
    "tnr=np.sum((y_test_pred_LR.ravel()==0)*(y_test.ravel()==0)) / np.sum(y_test_pred_LR.ravel()==0)\n",
    "\n",
    "cm = metrics.confusion_matrix(y_test.ravel(),y_test_pred_LR.ravel(),labels=[0,1])\n",
    "\n",
    "print(\"\\nAccuracy =\",acc)\n",
    "# print(\"True positive rate =\",tpr)  #Rem: Equivalent to metrics.precision_score(y_test.ravel(), y_test_pred.ravel(), pos_label=1.)\n",
    "# print(\"True negative rate =\",tnr)\n",
    "# print('\\nConfusion matrix =')\n",
    "# print(cm)"
   ]
  },
  {
   "cell_type": "code",
   "execution_count": 69,
   "metadata": {},
   "outputs": [
    {
     "name": "stdout",
     "output_type": "stream",
     "text": [
      "232 17 1086 564\n"
     ]
    }
   ],
   "source": [
    "count_m = 0\n",
    "count_f = 0\n",
    "\n",
    "total_m = 0\n",
    "total_f = 0\n",
    "\n",
    "for i in range(NUMBER_TEST):\n",
    "    if X_test[i][-1] == 1:\n",
    "        total_m += 1\n",
    "        if y_test_pred_LR[i] == 1:\n",
    "            count_m += 1\n",
    "    else:\n",
    "        total_f += 1\n",
    "        if y_test_pred_LR[i] == 1:\n",
    "            count_f += 1\n",
    "\n",
    "print(count_m, count_f, total_m, total_f)"
   ]
  },
  {
   "cell_type": "code",
   "execution_count": 70,
   "metadata": {},
   "outputs": [
    {
     "name": "stdout",
     "output_type": "stream",
     "text": [
      "0.030141843971631204 0.2136279926335175\n",
      "Disparate impact: 0.14109501100513572\n"
     ]
    }
   ],
   "source": [
    "prob_s_0 = count_f / total_f\n",
    "prob_s_1 = count_m / total_m\n",
    "print(prob_s_0, prob_s_1)\n",
    "print(f\"Disparate impact: {prob_s_0/prob_s_1}\")"
   ]
  },
  {
   "cell_type": "code",
   "execution_count": 71,
   "metadata": {},
   "outputs": [],
   "source": [
    "men_X = []\n",
    "men_Y = []\n",
    "\n",
    "women_X = []\n",
    "women_Y = []\n",
    "\n",
    "for i in range(NUMBER_TOTAL):\n",
    "    if X[i][-1] == 1:\n",
    "        men_X.append(X[i])\n",
    "        men_Y.append(y[i])\n",
    "    else:\n",
    "        women_X.append(X[i])\n",
    "        women_Y.append(y[i])"
   ]
  },
  {
   "cell_type": "code",
   "execution_count": 72,
   "metadata": {},
   "outputs": [
    {
     "name": "stdout",
     "output_type": "stream",
     "text": [
      "(3343, 6) (3343, 1) (1657, 6) (1657, 1)\n"
     ]
    }
   ],
   "source": [
    "men_X = np.array(men_X)\n",
    "men_Y = np.array(men_Y)\n",
    "women_X = np.array(women_X)\n",
    "women_Y = np.array(women_Y)\n",
    "\n",
    "print(men_X.shape, men_Y.shape, women_X.shape, women_Y.shape)"
   ]
  },
  {
   "cell_type": "code",
   "execution_count": 73,
   "metadata": {},
   "outputs": [],
   "source": [
    "cost_matrix = np.zeros((NUMBER_FEMALE, NUMBER_MALE))"
   ]
  },
  {
   "cell_type": "code",
   "execution_count": 74,
   "metadata": {},
   "outputs": [],
   "source": [
    "for i in range(NUMBER_MALE):\n",
    "    for j in range(NUMBER_FEMALE):\n",
    "        dist = 0\n",
    "        for k in range(6):\n",
    "            if k == 5:\n",
    "                continue\n",
    "            dist = dist + (men_X[i][k] - women_X[j][k])**2\n",
    "        dist = dist**0.5\n",
    "        cost_matrix[j][i] = dist"
   ]
  },
  {
   "cell_type": "code",
   "execution_count": 75,
   "metadata": {},
   "outputs": [
    {
     "name": "stdout",
     "output_type": "stream",
     "text": [
      "(3343,) (1657,) (1657, 3343)\n"
     ]
    }
   ],
   "source": [
    "mat_men = np.array([1/NUMBER_MALE] * NUMBER_MALE)\n",
    "mat_women = np.array([1/NUMBER_FEMALE] * NUMBER_FEMALE)\n",
    "\n",
    "print(mat_men.shape, mat_women.shape, cost_matrix.shape)"
   ]
  },
  {
   "cell_type": "code",
   "execution_count": 76,
   "metadata": {},
   "outputs": [
    {
     "name": "stdout",
     "output_type": "stream",
     "text": [
      "Time taken: 1.8916504383087158\n"
     ]
    }
   ],
   "source": [
    "start = time.time()\n",
    "ot_emd = ot.emd(mat_women, mat_men, cost_matrix)\n",
    "time_emd = time.time() - start\n",
    "\n",
    "print(f\"Time taken: {time_emd}\")"
   ]
  },
  {
   "cell_type": "code",
   "execution_count": 77,
   "metadata": {},
   "outputs": [
    {
     "name": "stdout",
     "output_type": "stream",
     "text": [
      "(1657, 3343)\n",
      "sum of first row of transport plan: 0.0006035003017501509\n",
      "Required sum of first row: 0.0006035003017501509\n",
      "1.000000000000012\n"
     ]
    }
   ],
   "source": [
    "print(ot_emd.shape)\n",
    "\n",
    "print(f\"sum of first row of transport plan: {sum(ot_emd[0])}\")\n",
    "print(f\"Required sum of first row: {1/NUMBER_FEMALE}\")\n",
    "\n",
    "print(sum([sum(ot_emd[i]) for i in range(ot_emd.shape[0])]))"
   ]
  },
  {
   "cell_type": "code",
   "execution_count": 78,
   "metadata": {},
   "outputs": [],
   "source": [
    "t_plan = pd.DataFrame(ot_emd)\n",
    "t_plan.to_csv(\"Transport_Matrix.csv\")"
   ]
  },
  {
   "cell_type": "code",
   "execution_count": 79,
   "metadata": {},
   "outputs": [],
   "source": [
    "tp = np.copy(ot_emd)\n",
    "\n",
    "for i in range(NUMBER_FEMALE):\n",
    "    for j in range(1, NUMBER_MALE):\n",
    "        tp[i][j] = tp[i][j-1] + tp[i][j]\n",
    "        \n",
    "for i in range(NUMBER_FEMALE):\n",
    "    for j in range(NUMBER_MALE):\n",
    "        tp[i][j] = tp[i][j] * NUMBER_FEMALE"
   ]
  },
  {
   "cell_type": "code",
   "execution_count": 80,
   "metadata": {},
   "outputs": [],
   "source": [
    "def get_acc_di(given_data):\n",
    "    X_after_OT = given_data[:, list(range(6))]\n",
    "    y_after_ot = given_data[:,6]\n",
    "\n",
    "    # print(X_after_OT.shape, y_after_ot.shape)\n",
    "    \n",
    "    X_train_after_ot, X_test_after_ot, y_train_after_ot, y_test_after_ot = train_test_split(X_after_OT, y_after_ot, test_size=0.33)\n",
    "\n",
    "    # print('n_train=',X_train_after_ot.shape[0])\n",
    "    # print('n_test=',X_test_after_ot.shape[0])\n",
    "    # print('p=',X_test_after_ot.shape[1])\n",
    "\n",
    "    NUMBER_TEST_AFTER_OT = X_test_after_ot.shape[0]\n",
    "    \n",
    "    #instanciate the classifier\n",
    "    after = LogisticRegression(solver='lbfgs',max_iter=10000)\n",
    "\n",
    "    #train the classifier\n",
    "    after.fit(X_train_after_ot,y_train_after_ot.ravel())\n",
    "\n",
    "    #predict y_test\n",
    "    y_test_pred_LR=after.predict(X_test_after_ot)\n",
    "\n",
    "    print('Done Training and Predicting')\n",
    "    \n",
    "    acc=accuracy_score(y_test_after_ot.ravel(),y_test_pred_LR.ravel())\n",
    "    tpr=np.sum((y_test_pred_LR.ravel()==1)*(y_test_after_ot.ravel()==1)) / np.sum(y_test_pred_LR.ravel()==1)\n",
    "    tnr=np.sum((y_test_pred_LR.ravel()==0)*(y_test_after_ot.ravel()==0)) / np.sum(y_test_pred_LR.ravel()==0)\n",
    "\n",
    "    cm = metrics.confusion_matrix(y_test_after_ot.ravel(),y_test_pred_LR.ravel(),labels=[0,1])\n",
    "    \n",
    "    count_m = 0\n",
    "    count_f = 0\n",
    "\n",
    "    total_m = 0\n",
    "    total_f = 0\n",
    "\n",
    "    for i in range(NUMBER_TEST_AFTER_OT):\n",
    "        if X_after_OT[i][-1] == 1:\n",
    "            total_m += 1\n",
    "            if y_test_pred_LR[i] == 1:\n",
    "                count_m += 1\n",
    "        else:\n",
    "            total_f += 1\n",
    "            if y_test_pred_LR[i] == 1:\n",
    "                count_f += 1\n",
    "\n",
    "    print(count_m, count_f, total_m, total_f)\n",
    "    \n",
    "    prob_s_0 = count_f / total_f\n",
    "    prob_s_1 = count_m / total_m\n",
    "    print(prob_s_0, prob_s_1)\n",
    "    di = prob_s_0/prob_s_1\n",
    "    print(f\"Disparate impact: {di}\")\n",
    "    \n",
    "    return acc, di"
   ]
  },
  {
   "cell_type": "code",
   "execution_count": 94,
   "metadata": {},
   "outputs": [],
   "source": [
    "women_X_after_ot = np.copy(women_X)"
   ]
  },
  {
   "cell_type": "code",
   "execution_count": 95,
   "metadata": {},
   "outputs": [
    {
     "name": "stdout",
     "output_type": "stream",
     "text": [
      "0.8 x 1657 = 1325.6000000000001\n",
      "Number of replacements = 1333\n"
     ]
    }
   ],
   "source": [
    "LAMBDA = 0.8\n",
    "number_replacements = 0\n",
    "\n",
    "for i in range(NUMBER_FEMALE):\n",
    "    s1 = random.uniform(0, 1)\n",
    "    \n",
    "    if s1 > LAMBDA:\n",
    "        continue\n",
    "    \n",
    "    number_replacements += 1\n",
    "    sample = random.uniform(0, 1)\n",
    "    \n",
    "    index = 0\n",
    "    while tp[i][index+1] < sample:\n",
    "        index += 1\n",
    "    # print(index)\n",
    "    for j in range(5):\n",
    "        women_X_after_ot[i][j] = men_X[index][j]\n",
    "        \n",
    "print(f'{LAMBDA} x {NUMBER_FEMALE} = {LAMBDA * NUMBER_FEMALE}')\n",
    "print(f'Number of replacements = {number_replacements}')"
   ]
  },
  {
   "cell_type": "code",
   "execution_count": 96,
   "metadata": {},
   "outputs": [
    {
     "name": "stdout",
     "output_type": "stream",
     "text": [
      "(3343, 7) (1657, 7)\n"
     ]
    }
   ],
   "source": [
    "men_final = np.concatenate((men_X, men_Y), axis=1)\n",
    "women_final = np.concatenate((women_X_after_ot, women_Y), axis=1)\n",
    "\n",
    "print(men_final.shape, women_final.shape)"
   ]
  },
  {
   "cell_type": "code",
   "execution_count": 97,
   "metadata": {},
   "outputs": [
    {
     "name": "stdout",
     "output_type": "stream",
     "text": [
      "(5000, 7)\n"
     ]
    }
   ],
   "source": [
    "data_after_OT = np.concatenate((men_final, women_final))\n",
    "\n",
    "print(data_after_OT.shape)"
   ]
  },
  {
   "cell_type": "code",
   "execution_count": 98,
   "metadata": {},
   "outputs": [],
   "source": [
    "np.random.shuffle(data_after_OT)\n",
    "# print(data_after_OT[:10])\n"
   ]
  },
  {
   "cell_type": "code",
   "execution_count": 99,
   "metadata": {},
   "outputs": [
    {
     "name": "stdout",
     "output_type": "stream",
     "text": [
      "Done Training and Predicting\n",
      "140 61 1115 535\n",
      "0.11401869158878504 0.12556053811659193\n",
      "Disparate impact: 0.9080774365821094\n"
     ]
    },
    {
     "data": {
      "text/plain": [
       "(0.7866666666666666, 0.9080774365821094)"
      ]
     },
     "execution_count": 99,
     "metadata": {},
     "output_type": "execute_result"
    }
   ],
   "source": [
    "get_acc_di(data_after_OT)"
   ]
  },
  {
   "cell_type": "code",
   "execution_count": 100,
   "metadata": {},
   "outputs": [
    {
     "name": "stdout",
     "output_type": "stream",
     "text": [
      "0.03399999999999992\n"
     ]
    }
   ],
   "source": [
    "print(0.82 - 0.786)"
   ]
  },
  {
   "attachments": {},
   "cell_type": "markdown",
   "metadata": {},
   "source": [
    "|             | Accuracy           | Disparate Impact     |\n",
    "| ----------- | ------------------ | -------------------- |\n",
    "| Before OT   | 0.82               | 0.14109501100513572  |\n",
    "| After OT    | 0.7866666666666666 | 0.9080774365821094   |\n",
    "\n",
    "\n",
    "So, we can see that the accuracy went down by almost 3.3% and the disparate Impact went close to 0.9, which is above to 0.8 (what we need according to 80% rule.).\n",
    "These are the Values of DI and Accuracy with Lambda = 0.8, i.e. replacing an woman data with corresponding man's data with probability 0.8."
   ]
  }
 ],
 "metadata": {
  "kernelspec": {
   "display_name": "Python 3",
   "language": "python",
   "name": "python3"
  },
  "language_info": {
   "codemirror_mode": {
    "name": "ipython",
    "version": 3
   },
   "file_extension": ".py",
   "mimetype": "text/x-python",
   "name": "python",
   "nbconvert_exporter": "python",
   "pygments_lexer": "ipython3",
   "version": "3.10.8"
  },
  "orig_nbformat": 4,
  "vscode": {
   "interpreter": {
    "hash": "865d8b2eb28e274047ba64063dfb6a2aabf0dfec4905d304d7a76618dae6fdd4"
   }
  }
 },
 "nbformat": 4,
 "nbformat_minor": 2
}
